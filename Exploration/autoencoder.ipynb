{
 "cells": [
  {
   "cell_type": "code",
   "execution_count": null,
   "metadata": {},
   "outputs": [
    {
     "name": "stdout",
     "output_type": "stream",
     "text": [
      "WARNING:tensorflow:From C:\\Users\\omarc\\AppData\\Roaming\\Python\\Python311\\site-packages\\keras\\src\\losses.py:2976: The name tf.losses.sparse_softmax_cross_entropy is deprecated. Please use tf.compat.v1.losses.sparse_softmax_cross_entropy instead.\n",
      "\n"
     ]
    }
   ],
   "source": [
    "import tensorflow as tf\n",
    "from tensorflow.keras import layers, models\n",
    "import numpy as np\n",
    "import numpy as np\n",
    "import tensorflow as tf\n",
    "from sklearn.metrics.pairwise import cosine_similarity"
   ]
  },
  {
   "cell_type": "code",
   "execution_count": null,
   "metadata": {},
   "outputs": [],
   "source": [
    "# Constants\n",
    "DB_SEED_NUMBER = 42\n",
    "QUERY_SEED_START = 0\n",
    "QUERY_SEED_END = 1000\n",
    "size = 1_000_000\n",
    "DIMENSION = 70\n",
    "LATENT_DIM = 20\n",
    "MODEL_PATH = f\"autoencoder_model_{size}.keras\""
   ]
  },
  {
   "cell_type": "code",
   "execution_count": null,
   "metadata": {},
   "outputs": [],
   "source": [
    "rng = np.random.default_rng(DB_SEED_NUMBER)\n",
    "vectors = rng.random((size, DIMENSION), dtype=np.float32)"
   ]
  },
  {
   "cell_type": "code",
   "execution_count": null,
   "metadata": {},
   "outputs": [],
   "source": [
    "query_vectors = []\n",
    "for seed in range(QUERY_SEED_START, QUERY_SEED_END + 1):\n",
    "    query_rng = np.random.default_rng(seed)\n",
    "    query_vectors.append(query_rng.random((1, DIMENSION), dtype=np.float32))"
   ]
  },
  {
   "cell_type": "code",
   "execution_count": null,
   "metadata": {},
   "outputs": [],
   "source": [
    "query_vectors = np.vstack(query_vectors)\n",
    "vectors = np.vstack([vectors, query_vectors])"
   ]
  },
  {
   "cell_type": "code",
   "execution_count": null,
   "metadata": {},
   "outputs": [],
   "source": [
    "# Encoder\n",
    "input_layer = layers.Input(shape=(DIMENSION,), name=\"input_layer\")\n",
    "encoded = layers.Dense(240, activation='relu', name=\"encoder_dense_0\")(input_layer) \n",
    "encoded = layers.Dense(220, activation='relu', name=\"encoder_dense_1\")(encoded)\n",
    "encoded = layers.Dense(180, activation='relu', name=\"encoder_dense_2\")(encoded)\n",
    "encoded = layers.Dense(150, activation='relu', name=\"encoder_dense_3\")(encoded)\n",
    "encoded = layers.Dense(120, activation='relu', name=\"encoder_dense_4\")(encoded)\n",
    "encoded = layers.Dense(100, activation='relu', name=\"encoder_dense_5\")(encoded)\n",
    "encoded = layers.Dense(80, activation='relu', name=\"encoder_dense_6\")(encoded)\n",
    "encoded = layers.Dense(60, activation='relu', name=\"encoder_dense_7\")(encoded)\n",
    "encoded = layers.Dense(40, activation='relu', name=\"encoder_dense_8\")(encoded)\n",
    "encoded = layers.Dense(LATENT_DIM, activation='relu', name=\"latent_space\")(encoded)\n",
    "\n",
    "# Decoder\n",
    "decoded = layers.Dense(40, activation='relu', name=\"decoder_dense_1\")(encoded)\n",
    "decoded = layers.Dense(60, activation='relu', name=\"decoder_dense_2\")(decoded)\n",
    "decoded = layers.Dense(80, activation='relu', name=\"decoder_dense_3\")(decoded)\n",
    "decoded = layers.Dense(100, activation='relu', name=\"decoder_dense_4\")(decoded)\n",
    "decoded = layers.Dense(120, activation='relu', name=\"decoder_dense_5\")(decoded)\n",
    "decoded = layers.Dense(150, activation='relu', name=\"decoder_dense_6\")(decoded)\n",
    "decoded = layers.Dense(180, activation='relu', name=\"decoder_dense_7\")(decoded)\n",
    "decoded = layers.Dense(220, activation='relu', name=\"decoder_dense_8\")(decoded) \n",
    "decoded = layers.Dense(240, activation='relu', name=\"decoder_dense_9\")(decoded)\n",
    "decoded = layers.Dense(DIMENSION, activation='sigmoid', name=\"output_layer\")(decoded)\n",
    "\n",
    "\n",
    "# Autoencoder model\n",
    "autoencoder = models.Model(input_layer, decoded)\n",
    "\n",
    "encoder = models.Model(input_layer, encoded)\n",
    "autoencoder.compile(optimizer='adam', loss='mean_squared_error')"
   ]
  },
  {
   "cell_type": "code",
   "execution_count": null,
   "metadata": {},
   "outputs": [],
   "source": [
    "autoencoder.fit(vectors, vectors, epochs=25, batch_size=256, shuffle=True)"
   ]
  },
  {
   "cell_type": "code",
   "execution_count": null,
   "metadata": {},
   "outputs": [],
   "source": [
    "autoencoder.save(MODEL_PATH)\n",
    "print(f\"Model saved to {MODEL_PATH}\")"
   ]
  },
  {
   "cell_type": "code",
   "execution_count": null,
   "metadata": {},
   "outputs": [],
   "source": [
    "encoded_vectors = encoder.predict(vectors)  \n",
    "\n",
    "print(f\"Original Vectors Shape: {vectors.shape}\")\n",
    "print(f\"Compressed Vectors Shape (Latent Space): {encoded_vectors.shape}\")"
   ]
  },
  {
   "cell_type": "code",
   "execution_count": null,
   "metadata": {},
   "outputs": [],
   "source": [
    "# Load the autoencoder model\n",
    "autoencoder = tf.keras.models.load_model('autoencoder_model_1000000.keras')\n",
    "\n",
    "for layer in autoencoder.layers:\n",
    "    print(layer.name)\n",
    "\n",
    "# Extract the encoder model from the autoencoder\n",
    "encoder = tf.keras.models.Model(autoencoder.input, autoencoder.get_layer('latent_space').output)\n",
    "\n",
    "# Extract the decoder model from the autoencoder\n",
    "decoder_input = tf.keras.layers.Input(shape=(20,)) \n",
    "decoder_layer_1 = autoencoder.get_layer('decoder_dense_1')\n",
    "decoder_output_1 = decoder_layer_1(decoder_input)\n",
    "decoder_layer_2 = autoencoder.get_layer('decoder_dense_2')\n",
    "decoder_output_2 = decoder_layer_2(decoder_output_1)\n",
    "decoder_layer_3 = autoencoder.get_layer('decoder_dense_3')\n",
    "decoder_output_3 = decoder_layer_3(decoder_output_2)\n",
    "decoder_layer_4 = autoencoder.get_layer('decoder_dense_4')\n",
    "decoder_output_4 = decoder_layer_4(decoder_output_3)\n",
    "decoder_layer_5 = autoencoder.get_layer('decoder_dense_5')\n",
    "decoder_output_5 = decoder_layer_5(decoder_output_4)\n",
    "decoder_layer_6 = autoencoder.get_layer('decoder_dense_6')\n",
    "decoder_output_6 = decoder_layer_6(decoder_output_5)\n",
    "decoder_layer_7 = autoencoder.get_layer('decoder_dense_7')\n",
    "decoder_output_7 = decoder_layer_7(decoder_output_6)\n",
    "decoder_layer_8 = autoencoder.get_layer('decoder_dense_8')\n",
    "decoder_output_8 = decoder_layer_8(decoder_output_7)\n",
    "decoder_layer_9 = autoencoder.get_layer('decoder_dense_9')\n",
    "decoder_output_9 = decoder_layer_9(decoder_output_8)\n",
    "decoder_output = autoencoder.get_layer('output_layer')(decoder_output_9)\n",
    "\n",
    "# Create the full decoder model\n",
    "decoder = tf.keras.models.Model(decoder_input, decoder_output)\n",
    "\n",
    "# Generate a random vector for testing\n",
    "random_vector_index = np.random.randint(0, vectors.shape[0])\n",
    "test_vector = vectors[random_vector_index].reshape(1, -1)\n",
    "\n",
    "print(\"Original Vector:\")\n",
    "print(test_vector)\n",
    "\n",
    "# Encode the vector\n",
    "encoded_vector = encoder.predict(test_vector)\n",
    "print(\"\\nEncoded Vector:\")\n",
    "print(encoded_vector)\n",
    "\n",
    "# Decode the encoded vector using the decoder\n",
    "decoded_vector = decoder.predict(encoded_vector)\n",
    "print(\"\\nDecoded Vector:\")\n",
    "print(decoded_vector)\n",
    "\n",
    "# Measure the similarity between the original and decoded vectors using cosine similarity\n",
    "similarity = cosine_similarity(test_vector, decoded_vector)\n",
    "print(f\"\\nCosine Similarity between Original and Decoded Vector: {similarity[0][0]}\")\n",
    "\n",
    "print(f\"Original Vectors Shape: {vectors.shape}\")\n",
    "print(f\"Compressed Vectors Shape (Latent Space): {encoded_vector.shape}\")\n"
   ]
  }
 ],
 "metadata": {
  "kernelspec": {
   "display_name": "Python 3",
   "language": "python",
   "name": "python3"
  },
  "language_info": {
   "codemirror_mode": {
    "name": "ipython",
    "version": 3
   },
   "file_extension": ".py",
   "mimetype": "text/x-python",
   "name": "python",
   "nbconvert_exporter": "python",
   "pygments_lexer": "ipython3",
   "version": "3.11.3"
  }
 },
 "nbformat": 4,
 "nbformat_minor": 2
}
