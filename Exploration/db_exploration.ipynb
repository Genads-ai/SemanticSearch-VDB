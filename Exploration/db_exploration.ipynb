{
 "cells": [
  {
   "cell_type": "code",
   "execution_count": 1,
   "metadata": {},
   "outputs": [
    {
     "ename": "ModuleNotFoundError",
     "evalue": "No module named 'indexing_strategy'",
     "output_type": "error",
     "traceback": [
      "\u001b[1;31m---------------------------------------------------------------------------\u001b[0m",
      "\u001b[1;31mModuleNotFoundError\u001b[0m                       Traceback (most recent call last)",
      "Cell \u001b[1;32mIn[1], line 6\u001b[0m\n\u001b[0;32m      2\u001b[0m \u001b[38;5;28;01mimport\u001b[39;00m \u001b[38;5;21;01msys\u001b[39;00m\n\u001b[0;32m      5\u001b[0m sys\u001b[38;5;241m.\u001b[39mpath\u001b[38;5;241m.\u001b[39mappend(os\u001b[38;5;241m.\u001b[39mpath\u001b[38;5;241m.\u001b[39mjoin(os\u001b[38;5;241m.\u001b[39mpath\u001b[38;5;241m.\u001b[39mdirname(os\u001b[38;5;241m.\u001b[39mgetcwd()), \u001b[38;5;124m\"\u001b[39m\u001b[38;5;124mvec_db\u001b[39m\u001b[38;5;124m\"\u001b[39m))\n\u001b[1;32m----> 6\u001b[0m \u001b[38;5;28;01mfrom\u001b[39;00m \u001b[38;5;21;01mvector_db\u001b[39;00m \u001b[38;5;28;01mimport\u001b[39;00m VecDB\n\u001b[0;32m      9\u001b[0m sys\u001b[38;5;241m.\u001b[39mpath\u001b[38;5;241m.\u001b[39mappend(os\u001b[38;5;241m.\u001b[39mpath\u001b[38;5;241m.\u001b[39mjoin(os\u001b[38;5;241m.\u001b[39mpath\u001b[38;5;241m.\u001b[39mdirname(os\u001b[38;5;241m.\u001b[39mgetcwd()), \u001b[38;5;124m\"\u001b[39m\u001b[38;5;124mvec_db\u001b[39m\u001b[38;5;124m\"\u001b[39m,\u001b[38;5;124m\"\u001b[39m\u001b[38;5;124mIndexes\u001b[39m\u001b[38;5;124m\"\u001b[39m))\n\u001b[0;32m     10\u001b[0m \u001b[38;5;28mprint\u001b[39m(sys\u001b[38;5;241m.\u001b[39mpath[\u001b[38;5;241m-\u001b[39m\u001b[38;5;241m1\u001b[39m])\n",
      "File \u001b[1;32mc:\\Users\\MaestroXII\\CMP\\IV\\ADB\\Project\\SemanticSearch-VDB\\vec_db\\vector_db.py:4\u001b[0m\n\u001b[0;32m      2\u001b[0m \u001b[38;5;28;01mimport\u001b[39;00m \u001b[38;5;21;01mnumpy\u001b[39;00m \u001b[38;5;28;01mas\u001b[39;00m \u001b[38;5;21;01mnp\u001b[39;00m\n\u001b[0;32m      3\u001b[0m \u001b[38;5;28;01mimport\u001b[39;00m \u001b[38;5;21;01mos\u001b[39;00m\n\u001b[1;32m----> 4\u001b[0m \u001b[38;5;28;01mimport\u001b[39;00m \u001b[38;5;21;01mIndexes\u001b[39;00m\u001b[38;5;21;01m.\u001b[39;00m\u001b[38;5;21;01mivf_adc_index\u001b[39;00m \u001b[38;5;28;01mas\u001b[39;00m \u001b[38;5;21;01mivf_adc_index\u001b[39;00m\n\u001b[0;32m      6\u001b[0m DB_SEED_NUMBER \u001b[38;5;241m=\u001b[39m \u001b[38;5;241m42\u001b[39m\n\u001b[0;32m      7\u001b[0m ELEMENT_SIZE \u001b[38;5;241m=\u001b[39m np\u001b[38;5;241m.\u001b[39mdtype(np\u001b[38;5;241m.\u001b[39mfloat32)\u001b[38;5;241m.\u001b[39mitemsize\n",
      "File \u001b[1;32mc:\\Users\\MaestroXII\\CMP\\IV\\ADB\\Project\\SemanticSearch-VDB\\vec_db\\Indexes\\ivf_adc_index.py:3\u001b[0m\n\u001b[0;32m      1\u001b[0m \u001b[38;5;28;01mimport\u001b[39;00m \u001b[38;5;21;01mnumpy\u001b[39;00m \u001b[38;5;28;01mas\u001b[39;00m \u001b[38;5;21;01mnp\u001b[39;00m\n\u001b[0;32m      2\u001b[0m \u001b[38;5;28;01mimport\u001b[39;00m \u001b[38;5;21;01mos\u001b[39;00m\n\u001b[1;32m----> 3\u001b[0m \u001b[38;5;28;01mfrom\u001b[39;00m \u001b[38;5;21;01mindexing_strategy\u001b[39;00m \u001b[38;5;28;01mimport\u001b[39;00m IndexingStrategy\n\u001b[0;32m      4\u001b[0m \u001b[38;5;28;01mimport\u001b[39;00m \u001b[38;5;21;01mfaiss\u001b[39;00m\n\u001b[0;32m      6\u001b[0m \u001b[38;5;28;01mclass\u001b[39;00m \u001b[38;5;21;01mIVFADCIndex\u001b[39;00m(IndexingStrategy):\n",
      "\u001b[1;31mModuleNotFoundError\u001b[0m: No module named 'indexing_strategy'"
     ]
    }
   ],
   "source": [
    "import os\n",
    "import sys\n",
    "\n",
    "\n",
    "sys.path.append(os.path.join(os.path.dirname(os.getcwd()), \"vec_db\"))\n",
    "from vector_db import VecDB\n",
    "\n",
    "\n",
    "sys.path.append(os.path.join(os.path.dirname(os.getcwd()), \"vec_db\",\"Indexes\"))\n",
    "print(sys.path[-1])\n",
    "from ivf_adc_index import IVFADCIndex \n",
    "\n",
    "print(dir(VecDB))\n",
    "print(dir(IVFADCIndex))\n"
   ]
  },
  {
   "cell_type": "code",
   "execution_count": null,
   "metadata": {},
   "outputs": [
    {
     "name": "stdout",
     "output_type": "stream",
     "text": [
      "Initializing the VecDB\n",
      "Building the IVFADC index\n",
      "Vector size: 70\n",
      "IVFADC index built successfully.\n"
     ]
    },
    {
     "ename": "ValueError",
     "evalue": "Index not built. Build the index before saving.",
     "output_type": "error",
     "traceback": [
      "\u001b[1;31m---------------------------------------------------------------------------\u001b[0m",
      "\u001b[1;31mValueError\u001b[0m                                Traceback (most recent call last)",
      "Cell \u001b[1;32mIn[5], line 12\u001b[0m\n\u001b[0;32m      9\u001b[0m os\u001b[38;5;241m.\u001b[39mmakedirs(os\u001b[38;5;241m.\u001b[39mpath\u001b[38;5;241m.\u001b[39mdirname(index_file_path), exist_ok\u001b[38;5;241m=\u001b[39m\u001b[38;5;28;01mTrue\u001b[39;00m)\n\u001b[0;32m     11\u001b[0m \u001b[38;5;66;03m# Create a new database\u001b[39;00m\n\u001b[1;32m---> 12\u001b[0m vec_db \u001b[38;5;241m=\u001b[39m \u001b[43mVecDB\u001b[49m\u001b[43m(\u001b[49m\u001b[43mdatabase_file_path\u001b[49m\u001b[38;5;241;43m=\u001b[39;49m\u001b[43mdb_file_path\u001b[49m\u001b[43m,\u001b[49m\u001b[43m \u001b[49m\u001b[43mindex_file_path\u001b[49m\u001b[38;5;241;43m=\u001b[39;49m\u001b[43mindex_file_path\u001b[49m\u001b[43m,\u001b[49m\u001b[43m \u001b[49m\u001b[43mnew_db\u001b[49m\u001b[38;5;241;43m=\u001b[39;49m\u001b[43mis_new_db\u001b[49m\u001b[43m,\u001b[49m\u001b[43m \u001b[49m\u001b[43mdb_size\u001b[49m\u001b[38;5;241;43m=\u001b[39;49m\u001b[43mdb_size\u001b[49m\u001b[43m)\u001b[49m\n",
      "File \u001b[1;32mc:\\Users\\MaestroXII\\CMP\\IV\\ADB\\Project\\SemanticSearch-VDB\\vec_db\\vector_db.py:22\u001b[0m, in \u001b[0;36mVecDB.__init__\u001b[1;34m(self, database_file_path, index_file_path, new_db, db_size, indexing_strategy)\u001b[0m\n\u001b[0;32m     20\u001b[0m \u001b[38;5;28;01mif\u001b[39;00m os\u001b[38;5;241m.\u001b[39mpath\u001b[38;5;241m.\u001b[39mexists(\u001b[38;5;28mself\u001b[39m\u001b[38;5;241m.\u001b[39mdb_path):\n\u001b[0;32m     21\u001b[0m     os\u001b[38;5;241m.\u001b[39mremove(\u001b[38;5;28mself\u001b[39m\u001b[38;5;241m.\u001b[39mdb_path)\n\u001b[1;32m---> 22\u001b[0m \u001b[38;5;28;43mself\u001b[39;49m\u001b[38;5;241;43m.\u001b[39;49m\u001b[43mgenerate_database\u001b[49m\u001b[43m(\u001b[49m\u001b[43mdb_size\u001b[49m\u001b[43m)\u001b[49m\n",
      "File \u001b[1;32mc:\\Users\\MaestroXII\\CMP\\IV\\ADB\\Project\\SemanticSearch-VDB\\vec_db\\vector_db.py:28\u001b[0m, in \u001b[0;36mVecDB.generate_database\u001b[1;34m(self, size)\u001b[0m\n\u001b[0;32m     26\u001b[0m vectors \u001b[38;5;241m=\u001b[39m rng\u001b[38;5;241m.\u001b[39mrandom((size, DIMENSION), dtype\u001b[38;5;241m=\u001b[39mnp\u001b[38;5;241m.\u001b[39mfloat32)\n\u001b[0;32m     27\u001b[0m \u001b[38;5;28mself\u001b[39m\u001b[38;5;241m.\u001b[39m_write_vectors_to_file(vectors)\n\u001b[1;32m---> 28\u001b[0m \u001b[38;5;28;43mself\u001b[39;49m\u001b[38;5;241;43m.\u001b[39;49m\u001b[43m_build_index\u001b[49m\u001b[43m(\u001b[49m\u001b[43m)\u001b[49m\n",
      "File \u001b[1;32mc:\\Users\\MaestroXII\\CMP\\IV\\ADB\\Project\\SemanticSearch-VDB\\vec_db\\vector_db.py:87\u001b[0m, in \u001b[0;36mVecDB._build_index\u001b[1;34m(self)\u001b[0m\n\u001b[0;32m     85\u001b[0m \u001b[38;5;28mself\u001b[39m\u001b[38;5;241m.\u001b[39mindexing_strategy\u001b[38;5;241m.\u001b[39mbuild_index(vectors)\n\u001b[0;32m     86\u001b[0m \u001b[38;5;66;03m# Save the index\u001b[39;00m\n\u001b[1;32m---> 87\u001b[0m \u001b[38;5;28;43mself\u001b[39;49m\u001b[38;5;241;43m.\u001b[39;49m\u001b[43mindexing_strategy\u001b[49m\u001b[38;5;241;43m.\u001b[39;49m\u001b[43msave_index\u001b[49m\u001b[43m(\u001b[49m\u001b[38;5;28;43mself\u001b[39;49m\u001b[38;5;241;43m.\u001b[39;49m\u001b[43mindex_path\u001b[49m\u001b[43m)\u001b[49m\n",
      "File \u001b[1;32mc:\\Users\\MaestroXII\\CMP\\IV\\ADB\\Project\\SemanticSearch-VDB\\vec_db\\Indexes\\ivf_adc_index.py:19\u001b[0m, in \u001b[0;36mIVFADCIndex.save_index\u001b[1;34m(self, path)\u001b[0m\n\u001b[0;32m     17\u001b[0m \u001b[38;5;28;01mdef\u001b[39;00m \u001b[38;5;21msave_index\u001b[39m(\u001b[38;5;28mself\u001b[39m, path: \u001b[38;5;28mstr\u001b[39m):\n\u001b[0;32m     18\u001b[0m     \u001b[38;5;28;01mif\u001b[39;00m \u001b[38;5;28mself\u001b[39m\u001b[38;5;241m.\u001b[39mindex \u001b[38;5;129;01mis\u001b[39;00m \u001b[38;5;28;01mNone\u001b[39;00m:\n\u001b[1;32m---> 19\u001b[0m         \u001b[38;5;28;01mraise\u001b[39;00m \u001b[38;5;167;01mValueError\u001b[39;00m(\u001b[38;5;124m\"\u001b[39m\u001b[38;5;124mIndex not built. Build the index before saving.\u001b[39m\u001b[38;5;124m\"\u001b[39m)\n\u001b[0;32m     21\u001b[0m     \u001b[38;5;28mprint\u001b[39m(\u001b[38;5;124m\"\u001b[39m\u001b[38;5;124mSaving the IVFADC index\u001b[39m\u001b[38;5;124m\"\u001b[39m)\n\u001b[0;32m     23\u001b[0m     \u001b[38;5;66;03m# Placeholder for saving logic\u001b[39;00m\n",
      "\u001b[1;31mValueError\u001b[0m: Index not built. Build the index before saving."
     ]
    }
   ],
   "source": [
    "db_size = 1000000\n",
    "db_file_path = f\"../Databases/data_{db_size}.dat\"\n",
    "index_file_path = f\"../DBIndexes/index_{db_size}.dat\"\n",
    "# Turn this flag on if you want to create a new database or create a new index file\n",
    "is_new_db = True\n",
    "\n",
    "# Create a directory in the parent directory of the current working directory for the databases & indexes\n",
    "os.makedirs(os.path.dirname(db_file_path), exist_ok=True)\n",
    "os.makedirs(os.path.dirname(index_file_path), exist_ok=True)\n",
    "\n",
    "# Create a new database\n",
    "vec_db = VecDB(database_file_path=db_file_path, index_file_path=index_file_path, new_db=is_new_db, db_size=db_size)\n"
   ]
  }
 ],
 "metadata": {
  "kernelspec": {
   "display_name": "Python 3",
   "language": "python",
   "name": "python3"
  },
  "language_info": {
   "codemirror_mode": {
    "name": "ipython",
    "version": 3
   },
   "file_extension": ".py",
   "mimetype": "text/x-python",
   "name": "python",
   "nbconvert_exporter": "python",
   "pygments_lexer": "ipython3",
   "version": "3.11.3"
  }
 },
 "nbformat": 4,
 "nbformat_minor": 2
}
