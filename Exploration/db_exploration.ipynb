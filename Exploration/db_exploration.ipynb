{
 "cells": [
  {
   "cell_type": "code",
   "execution_count": 75,
   "metadata": {},
   "outputs": [],
   "source": [
    "import os\n",
    "import sys\n",
    "\n",
    "\n",
    "sys.path.append(os.path.join(os.path.dirname(os.getcwd()), \"vec_db\"))\n",
    "from vector_db import VecDB\n"
   ]
  },
  {
   "cell_type": "code",
   "execution_count": 76,
   "metadata": {},
   "outputs": [],
   "source": [
    "db_size = 1000000\n",
    "db_file_path = f\"../Databases/data_{db_size}.dat\"\n",
    "index_file_path = \"sample_index.dat\"\n",
    "# Turn this flag on if you want to create a new database or create a new index file\n",
    "is_new_db = True\n",
    "\n",
    "# Create a directory in the parent directory of the current working directory for the databases\n",
    "os.makedirs(os.path.dirname(db_file_path), exist_ok=True)\n",
    "\n",
    "# Create a new database\n",
    "vec_db = VecDB(database_file_path=db_file_path, index_file_path=index_file_path, new_db=is_new_db, db_size=db_size)\n"
   ]
  }
 ],
 "metadata": {
  "kernelspec": {
   "display_name": "Python 3",
   "language": "python",
   "name": "python3"
  },
  "language_info": {
   "codemirror_mode": {
    "name": "ipython",
    "version": 3
   },
   "file_extension": ".py",
   "mimetype": "text/x-python",
   "name": "python",
   "nbconvert_exporter": "python",
   "pygments_lexer": "ipython3",
   "version": "3.11.3"
  }
 },
 "nbformat": 4,
 "nbformat_minor": 2
}
